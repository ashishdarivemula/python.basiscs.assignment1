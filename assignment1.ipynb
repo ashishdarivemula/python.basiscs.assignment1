{
  "nbformat": 4,
  "nbformat_minor": 0,
  "metadata": {
    "colab": {
      "provenance": []
    },
    "kernelspec": {
      "name": "python3",
      "display_name": "Python 3"
    },
    "language_info": {
      "name": "python"
    }
  },
  "cells": [
    {
      "cell_type": "markdown",
      "source": [
        "# **Python basic questions**"
      ],
      "metadata": {
        "id": "lj3OkUbYh4fb"
      }
    },
    {
      "cell_type": "markdown",
      "source": [
        "1) What is Python, and why is it popular?\n",
        "   #Python is a high level, interpreted programming languge that is widely used for various puposes such as web development, scientific computing, data analysis, ai and more. Created in late 1980s by Guido van Rossum, Python is known for its simplicity, readability, and ease of use.\n",
        "   #Pyhon is popular for various reasons like:\n",
        "\n",
        "*   Versatility\n",
        "*   Easy to learn\n",
        "*   Large community\n",
        "*   Extensive libraries\n",
        "\n",
        "2) What is an interpreter in Python?\n",
        "   #An interpreter is a program that reads and executes Python code line by line. It translates Python code into machine code at runtime, as opposed to compiling the code beforehand. This makes Python a dynamically typed language and allows for immediate execution without the need for a separate compilation step.\n",
        "\n",
        "3) What are pre-defined keywords in Python\n",
        "  #Pre-defined keywords in Python are reserved words that have special meanings in the language and cannot be used as identifiers (like variable or function names). These keywords are part of the Python syntax and perform specific functions. Examples include if, else, for, while, def, return, and import.\n",
        "\n",
        "4) Can keywords be used as variable names?\n",
        " #No, keywords cannot be used as variable names. They are reserved by the Python language for specific operations, and using them as variable names will result in a syntax error.\n",
        "\n",
        "5) What is mutability in Python?\n",
        " #Mutability refers to whether or not an object’s state can be changed after it is created. Mutable objects can be modified, while immutable objects cannot be changed once they are created.\n",
        "\n",
        "6) Why are lists mutable, but tuples are immutable\n",
        " #Lists are mutable because they are designed to store collections of items that can change over time (e.g., adding, removing, or modifying elements). Tuples are immutable because they are intended to store fixed collections of items that should not change once created, ensuring that the tuple remains constant and can be used as a reliable key in dictionaries.\n",
        "\n",
        "7) What is the difference between “==” and “is” operators in Python\n",
        " #== checks if the values of two objects are equal.\n",
        "\n",
        "is checks if two references point to the same object in memory (i.e., if they are the same object).\n",
        "\n",
        "Example:\n",
        "\n",
        "a = [1, 2, 3]\n",
        "\n",
        "b = [1, 2, 3]\n",
        "\n",
        "print(a == b)  # True, because values are the same\n",
        "\n",
        "print(a is b)  # False, because they are different objects in memory\n",
        "\n",
        "8) What are logical operators in Python\n",
        " #Logical operators are used to combine conditional statements. They include:\n",
        "\n",
        "and: Returns True if both conditions are true.\n",
        "\n",
        "or: Returns True if at least one condition is true.\n",
        "\n",
        "not: Inverts the result of a condition.\n",
        "\n",
        "Example:\n",
        "\n",
        "x = 5\n",
        "\n",
        "y = 10\n",
        "\n",
        "print(x > 2 and y < 15)  # True\n",
        "\n",
        "9) What is type casting in Python?\n",
        " #Type casting is the process of converting one data type into another. In Python, you can explicitly convert data types using functions like int(), float(), str(), etc.\n",
        "\n",
        "Example:\n",
        "\n",
        "\n",
        "x = \"5\"\n",
        "\n",
        "y = int(x)  # Converts the string \"5\" into an integer\n",
        "\n",
        "10) What is the difference between implicit and explicit type casting?\n",
        " #Implicit type casting (also called automatic or coercion) is done by Python automatically when it converts one data type to another without requiring explicit instructions. For example, when you add an integer to a float, Python automatically converts the integer to a float.\n",
        "\n",
        "Explicit type casting requires the programmer to manually specify the conversion using functions like int(), float(), etc.\n",
        "\n",
        "Example of implicit casting:\n",
        "\n",
        "\n",
        "x = 5\n",
        "\n",
        "y = 5.5\n",
        "\n",
        "result = x + y  # Python automatically converts 5 to a float\n",
        "Example of explicit casting:\n",
        "\n",
        "\n",
        "x = \"10\"\n",
        "\n",
        "y = int(x)  # Explicitly converts the string to an integer\n",
        "\n",
        "11) What is the purpose of conditional statements in Python\n",
        " #Conditional statements allow the program to make decisions based on certain conditions. These statements control the flow of the program by executing code blocks depending on whether a condition is true or false.\n",
        "\n",
        "Example:\n",
        "\n",
        "if x > 10:\n",
        "\n",
        "    print(\"x is greater than 10\")\n",
        "\n",
        "else:\n",
        "\n",
        "    print(\"x is less than or equal to 10\")\n",
        "\n",
        "12) How does the elif statement work?\n",
        " #The elif (else if) statement is used to check multiple conditions in a sequence. If the condition in the if statement is false, it moves on to the elif statements to check other conditions. If no if or elif conditions are true, the else block (if present) will execute.\n",
        "\n",
        "Example:\n",
        "\n",
        "\n",
        "x = 15\n",
        "\n",
        "if x < 10:\n",
        "\n",
        "    print(\"x is less than 10\")\n",
        "\n",
        "elif x == 15:\n",
        "\n",
        "    print(\"x is 15\")\n",
        "\n",
        "else:\n",
        "\n",
        "    print(\"x is greater than 10\")\n",
        "\n",
        "13) What is the difference between for and while loops?\n",
        " #For loop: Used for iterating over a sequence (like a list, tuple, or range). It executes a block of code a specific number of times.\n",
        "\n",
        "While loop: Repeats a block of code as long as a given condition is true. It’s typically used when the number of iterations is not known in advance.\n",
        "\n",
        "14) Describe a scenario where a while loop is more suitable than a for loop.\n",
        " #A while loop is more suitable when the number of iterations is not fixed and depends on a condition that may change during the execution. For example, waiting for user input until a valid value is entered:\n",
        "\n",
        "while True:\n",
        "\n",
        "    user_input = input(\"Enter a positive number: \")\n",
        "\n",
        "    if user_input.isdigit() and int(user_input) > 0:\n",
        "\n",
        "        print(\"Valid input!\")\n",
        "\n",
        "        break\n",
        "\n",
        "    else:\n",
        "\n",
        "        print(\"Invalid input. Try again.\")\n",
        "        \n",
        "In this case, the loop continues until a valid input is received, which is more naturally suited for a while loop.\n",
        "\n",
        "\n",
        "\n"
      ],
      "metadata": {
        "id": "oKEstbPXh6nl"
      }
    },
    {
      "cell_type": "markdown",
      "source": [
        "# **Practical questions**"
      ],
      "metadata": {
        "id": "KlBii-ZasC9_"
      }
    },
    {
      "cell_type": "markdown",
      "source": [
        " 1) Write a Python program to print \"Hello, World!\"\n",
        "\n",
        "\n",
        "\n",
        "\n",
        "\n",
        "\n",
        "\n",
        "\n"
      ],
      "metadata": {
        "id": "V17I7Ga7sKkn"
      }
    },
    {
      "cell_type": "code",
      "source": [
        "print(\"Hello, World!\")"
      ],
      "metadata": {
        "colab": {
          "base_uri": "https://localhost:8080/"
        },
        "id": "Cu8XCIzRsv8Z",
        "outputId": "e99cc5bb-824e-4daa-d880-76fef157736e"
      },
      "execution_count": 1,
      "outputs": [
        {
          "output_type": "stream",
          "name": "stdout",
          "text": [
            "Hello, World!\n"
          ]
        }
      ]
    },
    {
      "cell_type": "markdown",
      "source": [
        "2) Write a Python program that displays your name and age."
      ],
      "metadata": {
        "id": "_dce_64ns5bV"
      }
    },
    {
      "cell_type": "code",
      "source": [
        "name = \"Ashish Darivemula\"\n",
        "age = 19\n",
        "\n",
        "print (\"Name\" + \" \" + name)\n",
        "print (\"Age\" + \" \" + str(age))\n"
      ],
      "metadata": {
        "colab": {
          "base_uri": "https://localhost:8080/"
        },
        "id": "u3_cpzqTtBIS",
        "outputId": "7bff96fc-167f-49e6-be95-0780c4f6ef4b"
      },
      "execution_count": 3,
      "outputs": [
        {
          "output_type": "stream",
          "name": "stdout",
          "text": [
            "Name Ashish Darivemula\n",
            "Age 19\n"
          ]
        }
      ]
    },
    {
      "cell_type": "markdown",
      "source": [
        "3) Write code to print all the pre-defined keywords in Python using the keyword library"
      ],
      "metadata": {
        "id": "s6dtAh-ktyLY"
      }
    },
    {
      "cell_type": "code",
      "source": [
        "import keyword\n",
        "\n",
        "print (\"Pre-defined keywords in Python are: \")\n",
        "print (keyword.kwlist)"
      ],
      "metadata": {
        "colab": {
          "base_uri": "https://localhost:8080/"
        },
        "id": "ORvFgziYt6kW",
        "outputId": "337d94c6-2465-44a7-d710-38600b15099e"
      },
      "execution_count": 6,
      "outputs": [
        {
          "output_type": "stream",
          "name": "stdout",
          "text": [
            "Pre-defined keywords in Python are: \n",
            "['False', 'None', 'True', 'and', 'as', 'assert', 'async', 'await', 'break', 'class', 'continue', 'def', 'del', 'elif', 'else', 'except', 'finally', 'for', 'from', 'global', 'if', 'import', 'in', 'is', 'lambda', 'nonlocal', 'not', 'or', 'pass', 'raise', 'return', 'try', 'while', 'with', 'yield']\n"
          ]
        }
      ]
    },
    {
      "cell_type": "markdown",
      "source": [
        "4) Write a program that checks if a given word is a Python keyword."
      ],
      "metadata": {
        "id": "kz3OAAxJumGH"
      }
    },
    {
      "cell_type": "code",
      "source": [
        "import keyword\n",
        "\n",
        "word = str(input(\"Enter a word: \"))\n",
        "\n",
        "if keyword.iskeyword(word):\n",
        "  print (word + \" is a keyword\")\n",
        "else:\n",
        "  print (word + \" is not a keyword\")\n"
      ],
      "metadata": {
        "colab": {
          "base_uri": "https://localhost:8080/"
        },
        "id": "RHfsX32aurts",
        "outputId": "2cf92d01-2e94-4c6b-bc4a-3bbae2c6ae85"
      },
      "execution_count": 7,
      "outputs": [
        {
          "output_type": "stream",
          "name": "stdout",
          "text": [
            "Enter a word: continue\n",
            "continue is a keyword\n"
          ]
        }
      ]
    },
    {
      "cell_type": "markdown",
      "source": [
        "5)  Create a list and tuple in Python, and demonstrate how attempting to change an element works differently\n",
        "for each."
      ],
      "metadata": {
        "id": "8OuRcgYLvUtc"
      }
    },
    {
      "cell_type": "code",
      "source": [
        "my_list = [1,2,3,4,5] #creating a list\n",
        "my_tuple = (1,2,3,4,5) #creating a tuple\n",
        "\n",
        "my_list.append(6) #list gets ammended\n",
        "print (my_list)\n",
        "\n",
        "my_tuple.append(6) #tuple cant be ammended\n",
        "print (my_tuple)\n"
      ],
      "metadata": {
        "colab": {
          "base_uri": "https://localhost:8080/",
          "height": 211
        },
        "id": "jkl_Qy56vgAE",
        "outputId": "d2a01554-c220-4b0e-f44e-83c4ee5dfbb9"
      },
      "execution_count": 8,
      "outputs": [
        {
          "output_type": "stream",
          "name": "stdout",
          "text": [
            "[1, 2, 3, 4, 5, 6]\n"
          ]
        },
        {
          "output_type": "error",
          "ename": "AttributeError",
          "evalue": "'tuple' object has no attribute 'append'",
          "traceback": [
            "\u001b[0;31m---------------------------------------------------------------------------\u001b[0m",
            "\u001b[0;31mAttributeError\u001b[0m                            Traceback (most recent call last)",
            "\u001b[0;32m<ipython-input-8-c31c93ac91a7>\u001b[0m in \u001b[0;36m<cell line: 0>\u001b[0;34m()\u001b[0m\n\u001b[1;32m      5\u001b[0m \u001b[0mprint\u001b[0m \u001b[0;34m(\u001b[0m\u001b[0mmy_list\u001b[0m\u001b[0;34m)\u001b[0m\u001b[0;34m\u001b[0m\u001b[0;34m\u001b[0m\u001b[0m\n\u001b[1;32m      6\u001b[0m \u001b[0;34m\u001b[0m\u001b[0m\n\u001b[0;32m----> 7\u001b[0;31m \u001b[0mmy_tuple\u001b[0m\u001b[0;34m.\u001b[0m\u001b[0mappend\u001b[0m\u001b[0;34m(\u001b[0m\u001b[0;36m6\u001b[0m\u001b[0;34m)\u001b[0m\u001b[0;34m\u001b[0m\u001b[0;34m\u001b[0m\u001b[0m\n\u001b[0m\u001b[1;32m      8\u001b[0m \u001b[0mprint\u001b[0m \u001b[0;34m(\u001b[0m\u001b[0mmy_tuple\u001b[0m\u001b[0;34m)\u001b[0m\u001b[0;34m\u001b[0m\u001b[0;34m\u001b[0m\u001b[0m\n",
            "\u001b[0;31mAttributeError\u001b[0m: 'tuple' object has no attribute 'append'"
          ]
        }
      ]
    },
    {
      "cell_type": "markdown",
      "source": [
        "6) Write a function to demonstrate the behavior of mutable and immutable arguments."
      ],
      "metadata": {
        "id": "LbBMFxvJwlVD"
      }
    },
    {
      "cell_type": "code",
      "source": [
        "num = 10 #behaviour of immutable arguments\n",
        "\n",
        "def demo_mutabality(n):\n",
        "  n = n + 1\n",
        "  print (n)\n",
        "\n",
        "demo_mutabality(num)\n",
        "print (\"after modifying=\",num)\n",
        "\n",
        "\n",
        "\n"
      ],
      "metadata": {
        "colab": {
          "base_uri": "https://localhost:8080/"
        },
        "id": "7ghG0Japwt6d",
        "outputId": "12ab9a47-5ad3-4c65-f9f7-8916abf4d0f6"
      },
      "execution_count": 14,
      "outputs": [
        {
          "output_type": "stream",
          "name": "stdout",
          "text": [
            "11\n",
            "after modifying= 10\n"
          ]
        }
      ]
    },
    {
      "cell_type": "code",
      "source": [
        "my_list = [1,2,3,4,5] #behaviour of mutable arguments\n",
        "\n",
        "my_list.append(6)\n",
        "\n",
        "print(my_list)\n"
      ],
      "metadata": {
        "colab": {
          "base_uri": "https://localhost:8080/"
        },
        "id": "N-3K_gyDzDoV",
        "outputId": "79212170-5f7a-43a3-fd7b-7bad2fe45fb8"
      },
      "execution_count": 15,
      "outputs": [
        {
          "output_type": "stream",
          "name": "stdout",
          "text": [
            "[1, 2, 3, 4, 5, 6]\n"
          ]
        }
      ]
    },
    {
      "cell_type": "markdown",
      "source": [
        "7) Write a program that performs basic arithmetic operations on two user-input numbers."
      ],
      "metadata": {
        "id": "7sr7tDBhze60"
      }
    },
    {
      "cell_type": "code",
      "source": [
        "#Basic arithmetic operations\n",
        "num1 = float(input(\"Enter first number\"))\n",
        "num2 = float(input(\"Enter second number\"))\n",
        "\n",
        "print (\"Addition = \", num1 + num2)\n",
        "print (\"Subtraction = \", num1 - num2)\n",
        "print (\"Multiplication = \", num1 * num2)\n",
        "print (\"Division = \", num1 / num2)\n"
      ],
      "metadata": {
        "colab": {
          "base_uri": "https://localhost:8080/"
        },
        "id": "6I_FoIabzmjT",
        "outputId": "11cc8bd7-6b7f-413d-a6cd-ba92f5dfe2d5"
      },
      "execution_count": 16,
      "outputs": [
        {
          "output_type": "stream",
          "name": "stdout",
          "text": [
            "Enter first number5\n",
            "Enter second number11\n",
            "Addition =  16.0\n",
            "Subtraction =  -6.0\n",
            "Multiplication =  55.0\n",
            "Division =  0.45454545454545453\n"
          ]
        }
      ]
    },
    {
      "cell_type": "markdown",
      "source": [
        "8) Write a program to demonstrate the use of logical operators."
      ],
      "metadata": {
        "id": "bnMiNv6p1CwM"
      }
    },
    {
      "cell_type": "code",
      "source": [
        "#AND operator\n",
        "\n",
        "x = 3\n",
        "y = 7\n",
        "\n",
        "if x > 2 and y < 10:\n",
        "  print (\"True\")\n",
        "else:\n",
        "  print (\"False\")\n",
        "\n"
      ],
      "metadata": {
        "colab": {
          "base_uri": "https://localhost:8080/"
        },
        "id": "mHqnd9a81JId",
        "outputId": "a24ed754-5286-4a00-a0ad-df5885fa2336"
      },
      "execution_count": 17,
      "outputs": [
        {
          "output_type": "stream",
          "name": "stdout",
          "text": [
            "True\n"
          ]
        }
      ]
    },
    {
      "cell_type": "code",
      "source": [
        "#OR operator\n",
        "\n",
        "x = 7\n",
        "y = 10\n",
        "\n",
        "if x > 9 or y < 15:\n",
        "  print (\"True\")\n",
        "else:\n",
        "  print (\"False\")\n",
        "\n"
      ],
      "metadata": {
        "colab": {
          "base_uri": "https://localhost:8080/"
        },
        "id": "CUvCY8KV1ogN",
        "outputId": "c4c625c0-fdf6-46eb-9551-e701af745023"
      },
      "execution_count": 19,
      "outputs": [
        {
          "output_type": "stream",
          "name": "stdout",
          "text": [
            "True\n"
          ]
        }
      ]
    },
    {
      "cell_type": "code",
      "source": [
        "#NOT operator\n",
        "\n",
        "x = 10\n",
        "print (not x > 100)\n"
      ],
      "metadata": {
        "colab": {
          "base_uri": "https://localhost:8080/"
        },
        "id": "0OZ3--Xv15hV",
        "outputId": "a2beeef5-284f-49d9-c3f0-79431de68b4c"
      },
      "execution_count": 21,
      "outputs": [
        {
          "output_type": "stream",
          "name": "stdout",
          "text": [
            "True\n"
          ]
        }
      ]
    },
    {
      "cell_type": "markdown",
      "source": [
        "9) Write a Python program to convert user input from string to integer, float, and boolean types"
      ],
      "metadata": {
        "id": "sn6t3iGY2Yjv"
      }
    },
    {
      "cell_type": "code",
      "source": [
        "#String to integer,float and boolean types\n",
        "\n",
        "my_string = str(input(\"Enter a number: \"))\n",
        "\n",
        "my_integer = int(my_string)\n",
        "print (my_integer)\n",
        "\n",
        "my_float = float(my_string)\n",
        "print (my_float)\n",
        "\n",
        "my_boolean = bool(my_string)\n",
        "print (my_boolean)"
      ],
      "metadata": {
        "colab": {
          "base_uri": "https://localhost:8080/"
        },
        "id": "dC6mUHZz2h5_",
        "outputId": "8d8b4ace-c981-4454-de7d-c5b1020f2bdb"
      },
      "execution_count": 27,
      "outputs": [
        {
          "output_type": "stream",
          "name": "stdout",
          "text": [
            "Enter a number: 7\n",
            "7\n",
            "7.0\n",
            "True\n"
          ]
        }
      ]
    },
    {
      "cell_type": "markdown",
      "source": [
        "10)  Write code to demonstrate type casting with list elements"
      ],
      "metadata": {
        "id": "najiWm3r3Zm7"
      }
    },
    {
      "cell_type": "code",
      "source": [
        "#type casting with list elements\n",
        "str_list = [\"1\", \"2\", \"3\", \"4\", \"5\"]\n",
        "\n",
        "int_list = [int(x) for x in str_list]\n",
        "print (int_list)\n",
        "\n",
        "print (type(int_list[0]))\n"
      ],
      "metadata": {
        "colab": {
          "base_uri": "https://localhost:8080/"
        },
        "id": "sT44hHLC2_q2",
        "outputId": "5e5272c1-18de-4a9c-8dc4-deee84207742"
      },
      "execution_count": 31,
      "outputs": [
        {
          "output_type": "stream",
          "name": "stdout",
          "text": [
            "[1, 2, 3, 4, 5]\n",
            "<class 'int'>\n"
          ]
        }
      ]
    },
    {
      "cell_type": "markdown",
      "source": [
        "11) Write a program that checks if a number is positive, negative, or zero."
      ],
      "metadata": {
        "id": "A9GfQRn84x9y"
      }
    },
    {
      "cell_type": "code",
      "source": [
        "x = int(input(\"Enter a number: \"))\n",
        "\n",
        "if x > 0:\n",
        "  print (\"Number is positive\")\n",
        "elif x < 0:\n",
        "  print (\"Number is negative\")\n",
        "else:\n",
        "  print (\"Number is zero\")"
      ],
      "metadata": {
        "colab": {
          "base_uri": "https://localhost:8080/"
        },
        "id": "sVMNC0Jg43C6",
        "outputId": "1b4052fe-a090-48e6-a5ba-19be93e7cc6a"
      },
      "execution_count": 32,
      "outputs": [
        {
          "output_type": "stream",
          "name": "stdout",
          "text": [
            "Enter a number: -12\n",
            "Number is negative\n"
          ]
        }
      ]
    },
    {
      "cell_type": "markdown",
      "source": [
        "12)  Write a for loop to print numbers from 1 to 10"
      ],
      "metadata": {
        "id": "-qVghkDI5Nm8"
      }
    },
    {
      "cell_type": "code",
      "source": [
        "x = 10\n",
        "for i in range(1,x+1):\n",
        "  print (i)"
      ],
      "metadata": {
        "colab": {
          "base_uri": "https://localhost:8080/"
        },
        "id": "PAs7cA3T5UGg",
        "outputId": "bfbeede0-f399-430f-ba72-ef277f628413"
      },
      "execution_count": 35,
      "outputs": [
        {
          "output_type": "stream",
          "name": "stdout",
          "text": [
            "1\n",
            "2\n",
            "3\n",
            "4\n",
            "5\n",
            "6\n",
            "7\n",
            "8\n",
            "9\n",
            "10\n"
          ]
        }
      ]
    },
    {
      "cell_type": "markdown",
      "source": [
        "13) Write a Python program to find the sum of all even numbers between 1 and 50."
      ],
      "metadata": {
        "id": "bih9YkqE5vtj"
      }
    },
    {
      "cell_type": "code",
      "source": [
        "x = 50\n",
        "even_sum = 0\n",
        "\n",
        "for i in range (1,x+1):\n",
        "  if i % 2 == 0:\n",
        "    even_sum = even_sum + i\n",
        "\n",
        "print (even_sum)\n",
        "\n"
      ],
      "metadata": {
        "colab": {
          "base_uri": "https://localhost:8080/"
        },
        "id": "Qv0Bw6Z8514l",
        "outputId": "483cff83-4895-4dcc-f390-909df94dca36"
      },
      "execution_count": 41,
      "outputs": [
        {
          "output_type": "stream",
          "name": "stdout",
          "text": [
            "650\n"
          ]
        }
      ]
    },
    {
      "cell_type": "markdown",
      "source": [
        "14) Write a program to reverse a string using a while loop."
      ],
      "metadata": {
        "id": "ZWrOLQQx7yiH"
      }
    },
    {
      "cell_type": "code",
      "source": [
        "string_input = input(\"Enter a string\")\n",
        "reversed_string = ''\n",
        "string_length = len(string_input)\n",
        "\n",
        "while string_length > 0:\n",
        "  reversed_string += string_input[string_length - 1]\n",
        "  string_length = string_length - 1\n",
        "\n",
        "print (reversed_string)"
      ],
      "metadata": {
        "colab": {
          "base_uri": "https://localhost:8080/"
        },
        "id": "NI7H5Lae8gyJ",
        "outputId": "814a993f-de8a-4494-8654-ef430dcdac4e"
      },
      "execution_count": 42,
      "outputs": [
        {
          "output_type": "stream",
          "name": "stdout",
          "text": [
            "Enter a stringhappy\n",
            "yppah\n"
          ]
        }
      ]
    },
    {
      "cell_type": "markdown",
      "source": [
        "15) Write a Python program to calculate the factorial of a number provided by the user using a while loop"
      ],
      "metadata": {
        "id": "BpXY6EiR9UC-"
      }
    },
    {
      "cell_type": "code",
      "source": [
        "n = int(input(\"Enter a number: \"))\n",
        "fact = 1\n",
        "i = 1\n",
        "\n",
        "while i <= n:\n",
        "  fact = fact * i\n",
        "  i = i + 1\n",
        "\n",
        "print (fact)"
      ],
      "metadata": {
        "colab": {
          "base_uri": "https://localhost:8080/"
        },
        "id": "_PVN5TTh9eLl",
        "outputId": "8f16c988-8d64-43c7-ccc3-e00aeff4aa88"
      },
      "execution_count": 43,
      "outputs": [
        {
          "output_type": "stream",
          "name": "stdout",
          "text": [
            "Enter a number: 5\n",
            "120\n"
          ]
        }
      ]
    }
  ]
}